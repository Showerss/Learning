{
 "cells": [
  {
   "cell_type": "code",
   "execution_count": null,
   "metadata": {},
   "outputs": [],
   "source": []
  },
  {
   "cell_type": "markdown",
   "metadata": {},
   "source": [
    "Tuples,\n",
    "immutable lists, once created it cannot be changed\n",
    "to create a tuple"
   ]
  },
  {
   "cell_type": "code",
   "execution_count": null,
   "metadata": {},
   "outputs": [],
   "source": [
    "tup = ()\n",
    "tup1 = (\"yo\")\n",
    "tup2 = \"yo\"\n",
    "tup3 = (5, 'test')"
   ]
  },
  {
   "cell_type": "markdown",
   "metadata": {},
   "source": [
    "unlike lists... []\n",
    "tupes use  ()... they're called sequences\n",
    "so just like a list... you can do tup1[0]\n",
    "\n",
    "\n",
    "use cases:"
   ]
  },
  {
   "cell_type": "code",
   "execution_count": null,
   "metadata": {},
   "outputs": [],
   "source": [
    "x, y = 0, 10\n"
   ]
  },
  {
   "cell_type": "code",
   "execution_count": null,
   "metadata": {},
   "outputs": [],
   "source": [
    "def yo(arg1, arg2):\n",
    "    print(arg1+ arg2)\n",
    "tup = -5,0\n"
   ]
  },
  {
   "cell_type": "code",
   "execution_count": 1,
   "metadata": {},
   "outputs": [
    {
     "ename": "",
     "evalue": "",
     "output_type": "error",
     "traceback": [
      "\u001b[1;31mThe Kernel crashed while executing code in the the current cell or a previous cell. Please review the code in the cell(s) to identify a possible cause of the failure. Click <a href='https://aka.ms/vscodeJupyterKernelCrash'>here</a> for more info. View Jupyter <a href='command:jupyter.viewOutput'>log</a> for further details."
     ]
    }
   ],
   "source": [
    "import turtle\n",
    "\n",
    "phil = turtle.Turtle()\n",
    "\n",
    "def project():\n",
    "    phil.forward(20)\n",
    "    phil.left(90)\n",
    "    phil.forward(20)\n",
    "    phil.right(90)\n",
    "    phil.forward(20)\n",
    "\n",
    "    turtle.exitonclick()\n",
    "\n",
    "project()"
   ]
  },
  {
   "cell_type": "markdown",
   "metadata": {},
   "source": [
    ".pop() takes off the end of the tail "
   ]
  },
  {
   "cell_type": "markdown",
   "metadata": {},
   "source": [
    "===== TUPLES =====\n",
    "\n",
    "\n",
    "strings are immutable combinations of chars\n",
    "lists are mutable combinations of any data type \n",
    "tuple are immutable combinations of any data type (sometimes called records by other languages )\n",
    "    seperated by commas \n",
    "    we can use tuples to 'chunk' data together\n",
    "    you can add or remove things from a tuple but you cannot modify elements once inside\n",
    "    you can do (a,b,c) = (1,2,3)"
   ]
  },
  {
   "cell_type": "markdown",
   "metadata": {},
   "source": [
    "===== DICTIONARIES =====\n",
    "\n",
    "builtin python mapping type to attach value to keys for quick searching\n",
    "unordered\n",
    "    \n"
   ]
  },
  {
   "cell_type": "code",
   "execution_count": null,
   "metadata": {},
   "outputs": [],
   "source": [
    "!!! Dictionaries !!!\n",
    "\n",
    "# we can use dictionaries to store key/value pairs\n",
    "inventory = {'apples': 430, 'bananas': 312, 'oranges': 525, 'pears': 217}\n",
    "# apples is the key, 430 is the value\n",
    "# you can print 430 by calling inventory['apples']\n",
    "#you can also assign by:\n",
    "# you can also assign it by using:\n",
    "inventory['cherries'] = 200\n",
    "inventory['bananas'] = inventory['bananas'] + 200\n",
    "\n",
    "# give the length of the dictionary inventory, store it to numItems\n",
    "numItems = len(inventory)\n",
    "\n",
    "# delete 'pears' in inventory\n",
    "del inventory['pears']\n",
    "\n",
    "\n",
    "print(list(inventory.values())) #print values (430, 312, 525, 217)\n",
    "print(list(inventory.items())) #print items -- the key/value pairs ((apples, 430), (bananas, 312), (oranges, 525), (pears, 217))\n",
    "\n",
    "for (k,v) in inventory.items():\n",
    "    print(\"Got\", k, \"that maps to\", v)\n",
    "\n",
    "for k in inventory:\n",
    "    print(\"Got\", k, \"that maps to\", inventory[k])"
   ]
  },
  {
   "cell_type": "code",
   "execution_count": 2,
   "metadata": {},
   "outputs": [
    {
     "name": "stdout",
     "output_type": "stream",
     "text": [
      "Phillip\n",
      "5.4\n"
     ]
    }
   ],
   "source": [
    "e = {}\n",
    "e[(20,40)] = 'Phillip'\n",
    "print(e[(20,40)]) #prints 'Phillip\n",
    "\n",
    "e[(20,0)] = 5.4\n",
    "print(e[(20,0)]) #prints 5.4\n",
    "\n",
    "e[[10,False]] = 'Hi' #you cant make a list a key because it is mutable"
   ]
  },
  {
   "cell_type": "code",
   "execution_count": null,
   "metadata": {},
   "outputs": [],
   "source": [
    "def anon(my_str):\n",
    "    oxford = {}\n",
    "    for ch in 'ABCDE':\n",
    "        oxford[ch] = 0 # this for loop initializes the dictionary\n",
    "        \n",
    "    for ch in my_str:\n",
    "        oxford[ch] = oxford[ch] + 1\n",
    "\n",
    "    return oxford"
   ]
  },
  {
   "cell_type": "markdown",
   "metadata": {},
   "source": [
    "priming read means to read the first line then start processing the rest, \n",
    "you do this to deal with header files "
   ]
  },
  {
   "cell_type": "code",
   "execution_count": null,
   "metadata": {},
   "outputs": [],
   "source": [
    "\n",
    "header = eq_file.readline().split(',')"
   ]
  },
  {
   "cell_type": "markdown",
   "metadata": {},
   "source": [
    "======= Chapter 8 ======== \n",
    "Iteratios:\n"
   ]
  },
  {
   "cell_type": "markdown",
   "metadata": {},
   "source": [
    "====== Lecture on event driven programming ==========\n",
    "when x happens, do y"
   ]
  },
  {
   "cell_type": "markdown",
   "metadata": {},
   "source": [
    "the function to change the least goes in the outermost for loop\n",
    "\n",
    "we want to go half of the width of the Image\n",
    "\n",
    "for y in range(height) - to go over whole image\n",
    "for x in range(width // 2) - to do half of the iamge"
   ]
  },
  {
   "cell_type": "markdown",
   "metadata": {},
   "source": [
    "sameness: how are things same or different \n",
    "\n",
    "shallow vs deep comparison: \n",
    "\n",
    "    deep comparison checks to see if they have the same content\n",
    "    deep uses == \n",
    "        c1 = [1,2,3]\n",
    "        c2 = [1,2,3]\n",
    "        c1 == c2 would return True\n",
    "\n",
    "        deep works even if it points to the other \n",
    "\n",
    "    shallow comparison checks to see if they are pointing to the same object\n",
    "    shallow uses is\n",
    "        me = [1,2,3]\n",
    "        you =  me\n",
    "        me is you would return True \n",
    "\n",
    "def __eq__ (self, other):\n",
    "\n",
    "    called a magic method / dunder method \n",
    "    it compares full classes\n",
    "    this will return True if equal\n",
    "    returns False is not equal though \n",
    "\n",
    "\n",
    "__str__ \n",
    "    means when you print out the object \n",
    "\n",
    "    "
   ]
  },
  {
   "cell_type": "code",
   "execution_count": null,
   "metadata": {},
   "outputs": [],
   "source": [
    "class Species: \n",
    "    def __init__(self, comm_name, initial_pop, growth):\n",
    "        self.common_name = comm_name\n",
    "        self.initial_pop = initial_pop\n",
    "        self.growth_rate = growth\n",
    "\n",
    "    def __eq__ (self, other):\n",
    "        is_common_name_eq = self.common_name == other.common_name\n",
    "        is_population_eq = self.population == other.population\n",
    "        is_growth_rate_eq = self.growth_rate == other.growth_rate\n",
    "\n",
    "        return is_population_eq and is_growth_rate_eq and is_common_name_eq\n",
    "\n",
    "s1 = Species('Cat', 100, 0.5)\n",
    "s2 = Species('Cat', 100, 0.5)\n",
    "print (s1 == s2)"
   ]
  },
  {
   "cell_type": "markdown",
   "metadata": {},
   "source": [
    "inheritance: \n",
    "    helps reduce code duplication between similar classes\n",
    "    a parent/child.. aka superclass/subclass\n",
    "\n",
    "    superclass defines the commonalities between the classes\n",
    "        provides a base\n",
    "    subclass is the differences between the two classes\n",
    "        new things \n",
    "\n",
    "    a child class EXTENDS a parent class\n",
    "        (the outer part of a venn diagram without the overlap)\n",
    "\n",
    "    if the child class doesnt contain code, it can inherit the parents code for a function is needs\n",
    "\n",
    "\n",
    "    super().__init__ \n",
    "    \n",
    "\n",
    "    \n",
    "\n"
   ]
  },
  {
   "cell_type": "code",
   "execution_count": null,
   "metadata": {},
   "outputs": [],
   "source": [
    "class Species:\n",
    "    def eat(self):\n",
    "        print(\"I am eating\")\n",
    "\n",
    "class Herbivore(Species):\n",
    "    #inheritance from Species\n",
    "    #if it doesnt have eat, it can call on the parent of Species to find the eat function\n",
    "\n",
    "class Carnivore(Species):\n",
    "    #inheritance from Species, carnivote is a subclass\n",
    "    \n",
    "\n"
   ]
  },
  {
   "cell_type": "markdown",
   "metadata": {},
   "source": [
    "instance variables\n",
    "    parent classes usually only have pertinent infomation that childs will use\n",
    "    childs can have non-pertinent information \n",
    "\n",
    "methods?\n",
    "    parents have methods that are usually pertinent to the child classes\n",
    "\n",
    "declared variables?\n",
    "    children can declare their own variables that parents dont always need to use\n",
    "    children usually need to declare the parents variables (so that the children can use them)\n",
    "        super().__init__(paramaters)\n",
    "\n",
    "by default the child acts the same as the parent, unless the child needs to do something slightly different, in which case you can redefine the method to \"override\""
   ]
  },
  {
   "cell_type": "markdown",
   "metadata": {},
   "source": [
    "classes are NOT good for math problems typically\n",
    "classes are good at reducing the amount of code, less redundancy, more organized, game simulations, real life objects\n",
    "\n",
    "typically camelcase... MyClass: \n",
    "\n",
    "\n"
   ]
  },
  {
   "cell_type": "code",
   "execution_count": null,
   "metadata": {},
   "outputs": [],
   "source": [
    "class MyClass:\n",
    "    #instance methods\n",
    "\n",
    "    self.x = 5 #this doesnt work \n",
    "\n",
    "    #instance variables (aka attributes)\n",
    "    def __init__(self):\n",
    "        #start initializing variables\n",
    "        self.x = 5\n",
    "    \n",
    "    #we love instance methods for access and modify variables\n",
    "    def print_something(self): #self refers to the calling object\n",
    "        print(MyClass.x)\n",
    "\n",
    "    def print_hi(self):\n",
    "        self.y = 4\n",
    "        print(\"hi\")\n",
    "\n",
    "c1 = MyClass() #create an instance of that class\n",
    "c2 = MyClass() #creat an instance again of the class\n",
    "\n",
    "c1.print_something() #c1 is the calling object\n",
    "c2.print_something() #c2 is the calling object \n",
    "\n",
    "# you cant call a class itself, you must always create an instance first \n",
    "\n",
    "class MyClassChild(MyClass):\n",
    "    #typically you want to inhereit instance variables and methods\n",
    "    #inherit methods by: calling (MyClass) in parenthesis, now it inherited the methods from the parent\n",
    "\n",
    "    #secondly, you use super(). to initialize all variables within init\n",
    "    def __init__(self):\n",
    "        super().__init__()\n",
    "\n",
    "\n",
    "    #how could you override?\n",
    "    def print_hi(self):\n",
    "        print(\"something else\")\n",
    "\n",
    "c3 = MyClassChild()\n",
    "print(c3.y) #this doesnt work because c3 print_hi hasnt loaded yet\n",
    "c3.print_hi\n",
    "c3.print_something\n",
    "print(c3.y) #this also works"
   ]
  },
  {
   "cell_type": "markdown",
   "metadata": {},
   "source": [
    "functions vs methods \n",
    "    - method is any function inside of a class\n",
    "    - function outside of a class\n",
    "\n",
    "what is a module ?\n",
    "    - the file itself, this you need to import, import module to access methods/functions"
   ]
  },
  {
   "cell_type": "code",
   "execution_count": 2,
   "metadata": {},
   "outputs": [
    {
     "name": "stdout",
     "output_type": "stream",
     "text": [
      "The device 'Alex's smartphone' is booting up.\n",
      "The device 'Alex's PC' is booting up.\n"
     ]
    }
   ],
   "source": [
    "class Device:\n",
    "  def __init__(self, device_name):\n",
    "    self.name = device_name\n",
    "  def boot_up(self):\n",
    "    print(\"The device '\" + self.name + \"' is booting up.\")\n",
    "\n",
    "class Computer(Device):\n",
    "  def __init__(self, pc_name):\n",
    "    super().__init__(pc_name)\n",
    "\n",
    "# main\n",
    "d = Device(\"Alex's smartphone\")\n",
    "d.boot_up()\n",
    "\n",
    "c = Computer(\"Alex's PC\")\n",
    "c.boot_up()"
   ]
  },
  {
   "cell_type": "code",
   "execution_count": 19,
   "metadata": {},
   "outputs": [
    {
     "name": "stdout",
     "output_type": "stream",
     "text": [
      "True\n",
      "False\n"
     ]
    }
   ],
   "source": [
    "\n",
    "class CarDealer:\n",
    "  def __init__(self, dealer_name, dealer_cars):\n",
    "    \"\"\"\n",
    "    Parameters:\n",
    "    - dealer_name (str): the dealer's name\n",
    "    - dealer_cars (list): a list of cars, with each car name as a string\n",
    "    \"\"\"\n",
    "    self.name = dealer_name\n",
    "    self.cars = dealer_cars\n",
    "\n",
    "  def __eq__(self, other):\n",
    "    for i in range(len(self.cars) // 2):\n",
    "      if not self.cars[i] in other.cars:\n",
    "        return False\n",
    "    return True\n",
    "\n",
    "a = CarDealer(\"Bob\", \"Ford, Chevy\")\n",
    "b = CarDealer(\"Fred\", \"Ford, Chevy\")\n",
    "c = CarDealer(\"Tim\", \"Toyota]\")\n",
    "print (a == b)\n",
    "print (a == c)"
   ]
  }
 ],
 "metadata": {
  "kernelspec": {
   "display_name": "Python 3",
   "language": "python",
   "name": "python3"
  },
  "language_info": {
   "codemirror_mode": {
    "name": "ipython",
    "version": 3
   },
   "file_extension": ".py",
   "mimetype": "text/x-python",
   "name": "python",
   "nbconvert_exporter": "python",
   "pygments_lexer": "ipython3",
   "version": "3.11.5"
  }
 },
 "nbformat": 4,
 "nbformat_minor": 2
}
