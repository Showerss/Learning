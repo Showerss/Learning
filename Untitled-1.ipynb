{
 "cells": [
  {
   "cell_type": "code",
   "execution_count": null,
   "metadata": {},
   "outputs": [],
   "source": []
  },
  {
   "cell_type": "markdown",
   "metadata": {},
   "source": [
    "Tuples,\n",
    "immutable lists, once created it cannot be changed\n",
    "to create a tuple"
   ]
  },
  {
   "cell_type": "code",
   "execution_count": null,
   "metadata": {},
   "outputs": [],
   "source": [
    "tup = ()\n",
    "tup1 = (\"yo\")\n",
    "tup2 = \"yo\"\n",
    "tup3 = (5, 'test')"
   ]
  },
  {
   "cell_type": "markdown",
   "metadata": {},
   "source": [
    "unlike lists... []\n",
    "tupes use  ()... they're called sequences\n",
    "so just like a list... you can do tup1[0]\n",
    "\n",
    "\n",
    "use cases:"
   ]
  },
  {
   "cell_type": "code",
   "execution_count": null,
   "metadata": {},
   "outputs": [],
   "source": [
    "x, y = 0, 10\n"
   ]
  },
  {
   "cell_type": "code",
   "execution_count": null,
   "metadata": {},
   "outputs": [],
   "source": [
    "def yo(arg1, arg2):\n",
    "    print(arg1+ arg2)\n",
    "tup = -5,0\n"
   ]
  },
  {
   "cell_type": "code",
   "execution_count": 1,
   "metadata": {},
   "outputs": [
    {
     "ename": "",
     "evalue": "",
     "output_type": "error",
     "traceback": [
      "\u001b[1;31mThe Kernel crashed while executing code in the the current cell or a previous cell. Please review the code in the cell(s) to identify a possible cause of the failure. Click <a href='https://aka.ms/vscodeJupyterKernelCrash'>here</a> for more info. View Jupyter <a href='command:jupyter.viewOutput'>log</a> for further details."
     ]
    }
   ],
   "source": [
    "import turtle\n",
    "\n",
    "phil = turtle.Turtle()\n",
    "\n",
    "def project():\n",
    "    phil.forward(20)\n",
    "    phil.left(90)\n",
    "    phil.forward(20)\n",
    "    phil.right(90)\n",
    "    phil.forward(20)\n",
    "\n",
    "    turtle.exitonclick()\n",
    "\n",
    "project()"
   ]
  },
  {
   "cell_type": "markdown",
   "metadata": {},
   "source": [
    ".pop() takes off the end of the tail "
   ]
  },
  {
   "cell_type": "markdown",
   "metadata": {},
   "source": [
    "===== TUPLES =====\n",
    "\n",
    "\n",
    "strings are immutable combinations of chars\n",
    "lists are mutable combinations of any data type \n",
    "tuple are immutable combinations of any data type (sometimes called records by other languages )\n",
    "    seperated by commas \n",
    "    we can use tuples to 'chunk' data together\n",
    "    you can add or remove things from a tuple but you cannot modify elements once inside\n",
    "    you can do (a,b,c) = (1,2,3)"
   ]
  },
  {
   "cell_type": "markdown",
   "metadata": {},
   "source": [
    "===== DICTIONARIES =====\n",
    "\n",
    "builtin python mapping type to attach value to keys for quick searching\n",
    "unordered\n",
    "    \n"
   ]
  },
  {
   "cell_type": "code",
   "execution_count": null,
   "metadata": {},
   "outputs": [],
   "source": [
    "!!! Dictionaries !!!\n",
    "\n",
    "\n",
    "inventory = {'apples': 430, 'bananas': 312, 'oranges': 525, 'pears': 217}\n",
    "inventory['bananas'] = inventory['bananas'] + 200\n",
    "\n",
    "# give the length of the dictionary inventory, store it to numItems\n",
    "numItems = len(inventory)\n",
    "\n",
    "# delete 'pears' in inventory\n",
    "del inventory['pears']\n",
    "\n",
    "\n",
    "print(list(inventory.values())) #print values (430, 312, 525, 217)\n",
    "print(list(inventory.items())) #print items -- the key/value pairs ((apples, 430), (bananas, 312), (oranges, 525), (pears, 217))\n",
    "\n",
    "for (k,v) in inventory.items():\n",
    "    print(\"Got\", k, \"that maps to\", v)\n",
    "\n",
    "for k in inventory:\n",
    "    print(\"Got\", k, \"that maps to\", inventory[k])"
   ]
  },
  {
   "cell_type": "markdown",
   "metadata": {},
   "source": [
    "priming read means to read the first line then start processing the rest, \n",
    "you do this to deal with header files "
   ]
  },
  {
   "cell_type": "code",
   "execution_count": null,
   "metadata": {},
   "outputs": [],
   "source": [
    "\n",
    "header = eq_file.readline().split(',')"
   ]
  },
  {
   "cell_type": "markdown",
   "metadata": {},
   "source": [
    "======= Chapter 8 ======== \n",
    "Iteratios:\n"
   ]
  },
  {
   "cell_type": "markdown",
   "metadata": {},
   "source": [
    "====== Lecture on event driven programming ==========\n",
    "when x happens, do y"
   ]
  }
 ],
 "metadata": {
  "kernelspec": {
   "display_name": "Python 3",
   "language": "python",
   "name": "python3"
  },
  "language_info": {
   "codemirror_mode": {
    "name": "ipython",
    "version": 3
   },
   "file_extension": ".py",
   "mimetype": "text/x-python",
   "name": "python",
   "nbconvert_exporter": "python",
   "pygments_lexer": "ipython3",
   "version": "3.11.5"
  }
 },
 "nbformat": 4,
 "nbformat_minor": 2
}
